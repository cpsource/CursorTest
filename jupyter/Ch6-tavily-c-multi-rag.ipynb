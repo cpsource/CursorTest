{
 "cells": [
  {
   "cell_type": "markdown",
   "id": "18befb85-5df4-4f09-b471-397d8cd0c209",
   "metadata": {},
   "source": [
    "# Ch6-tavily-c-multi-rag"
   ]
  },
  {
   "cell_type": "markdown",
   "id": "ab7ab83c-5360-423b-971e-290790c18fac",
   "metadata": {},
   "source": [
    "## Get Key Tokens"
   ]
  },
  {
   "cell_type": "code",
   "execution_count": null,
   "id": "ee7eec73-03e9-4eb9-9315-607381290563",
   "metadata": {},
   "outputs": [],
   "source": [
    "import os\n",
    "from pathlib import Path\n",
    "\n",
    "# Method 1: Using python-dotenv (recommended)\n",
    "# First install: pip install python-dotenv\n",
    "try:\n",
    "    from dotenv import load_dotenv\n",
    "    \n",
    "    # Load .env file from home directory\n",
    "    dotenv_path = Path.home() / '.env'\n",
    "    load_dotenv(dotenv_path)\n",
    "    \n",
    "    # Now you can access environment variables\n",
    "#    api_key = os.getenv('OPENAI_API_KEY')\n",
    "#    database_url = os.getenv('DATABASE_URL')\n",
    "    \n",
    "    print(\"Using python-dotenv:\")\n",
    "#    print(f\"API Key: {api_key}\")\n",
    "#    print(f\"Database URL: {database_url}\")\n",
    "    \n",
    "except ImportError:\n",
    "    print(\"python-dotenv not installed. Install with: pip install python-dotenv\")"
   ]
  },
  {
   "cell_type": "markdown",
   "id": "15c92ecc-c00b-4b5e-812b-121621431a0a",
   "metadata": {},
   "source": [
    "## Setup LangGraph"
   ]
  },
  {
   "cell_type": "code",
   "execution_count": null,
   "id": "488d7d49-5de6-44a3-b00f-29e56a52f3b9",
   "metadata": {},
   "outputs": [],
   "source": []
  }
 ],
 "metadata": {
  "kernelspec": {
   "display_name": "Python 3 (ipykernel)",
   "language": "python",
   "name": "python3"
  },
  "language_info": {
   "codemirror_mode": {
    "name": "ipython",
    "version": 3
   },
   "file_extension": ".py",
   "mimetype": "text/x-python",
   "name": "python",
   "nbconvert_exporter": "python",
   "pygments_lexer": "ipython3",
   "version": "3.12.3"
  }
 },
 "nbformat": 4,
 "nbformat_minor": 5
}
